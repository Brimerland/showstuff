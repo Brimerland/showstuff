{
 "cells": [
  {
   "cell_type": "markdown",
   "metadata": {},
   "source": [
    "# Das hier ist ein Markdown Block.\n",
    "Und als nächstes geht es mit einem Codeblock weiter."
   ]
  },
  {
   "cell_type": "code",
   "execution_count": null,
   "metadata": {
    "dotnet_interactive": {
     "language": "csharp"
    }
   },
   "outputs": [],
   "source": [
    "var myValues = new List<(int, double)>();\n",
    "\n",
    "\n",
    "\n",
    "for (int i=1; i<100; i++)\n",
    "{\n",
    "    myValues.Add((i, (80.0 / i) * Math.Sin(i/10.0)));\n",
    "}\n",
    "\n",
    "\n",
    "myValues"
   ]
  },
  {
   "cell_type": "markdown",
   "metadata": {},
   "source": [
    "Das soll aber besser visualisiert werden.\n",
    "Also ein paar zusätzliche Libs holen und laden."
   ]
  },
  {
   "cell_type": "code",
   "execution_count": null,
   "metadata": {
    "dotnet_interactive": {
     "language": "csharp"
    }
   },
   "outputs": [],
   "source": [
    "#r \"nuget:Microsoft.Data.Analysis\"\n",
    "#r \"nuget:XPlot.Plotly\"\n",
    "#r \"nuget:XPlot.Plotly.Interactive\""
   ]
  },
  {
   "cell_type": "code",
   "execution_count": null,
   "metadata": {
    "dotnet_interactive": {
     "language": "csharp"
    }
   },
   "outputs": [],
   "source": [
    "using Microsoft.Data.Analysis;\n",
    "\n",
    "// convert data\n",
    "var times = new PrimitiveDataFrameColumn<int>(\"Times\"); \n",
    "var values = new PrimitiveDataFrameColumn<double>(\"Values\");\n",
    "\n",
    "foreach(var item in myValues)\n",
    "{\n",
    "    times.Append(item.Item1);\n",
    "    values.Append(item.Item2);\n",
    "}\n",
    "\n",
    "var df1 = new DataFrame(times, values);\n",
    "\n",
    "df1"
   ]
  },
  {
   "cell_type": "markdown",
   "metadata": {},
   "source": [
    "Und nun in hübsch:"
   ]
  },
  {
   "cell_type": "code",
   "execution_count": null,
   "metadata": {
    "dotnet_interactive": {
     "language": "csharp"
    }
   },
   "outputs": [],
   "source": [
    "using XPlot.Plotly;\n",
    "\n",
    "var chart1 = Chart.Plot(\n",
    "    new Scatter\n",
    "    {\n",
    "        x = df1.Columns[\"Times\"],\n",
    "        y = df1.Columns[\"Values\"],\n",
    "        mode = \"lines\"//+markers\"\n",
    "    }\n",
    ");\n",
    "\n",
    "chart1.WithLayout(new Layout.Layout{\n",
    "    title=\"Damping\",\n",
    "    xaxis =new Xaxis{\n",
    "        title = \"Time in ms\"\n",
    "        },\n",
    "    yaxis =new Yaxis{\n",
    "        title = \"Length\"\n",
    "        }\n",
    "    });\n",
    "    \n",
    "chart1"
   ]
  }
 ],
 "metadata": {
  "kernelspec": {
   "display_name": ".NET (C#)",
   "language": "C#",
   "name": ".net-csharp"
  },
  "language_info": {
   "file_extension": ".cs",
   "mimetype": "text/x-csharp",
   "name": "C#",
   "pygments_lexer": "csharp",
   "version": "9.0"
  },
  "orig_nbformat": 4
 },
 "nbformat": 4,
 "nbformat_minor": 2
}
